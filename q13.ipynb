{
 "cells": [
  {
   "cell_type": "markdown",
   "id": "4ea3e6a6-ed8a-4f16-9160-e1f152182b85",
   "metadata": {},
   "source": [
    "<h2>\n",
    "    Exact change: Given a price identify if\n",
    "you have exact change summing up to\n",
    "that price?\n",
    "(Count all combinations of coins to make\n",
    "a given value sum.)\n",
    "</h2>"
   ]
  },
  {
   "cell_type": "code",
   "execution_count": 19,
   "id": "03aeb8db-dcc1-4cd3-b84c-8608e98cc8ae",
   "metadata": {},
   "outputs": [
    {
     "name": "stdin",
     "output_type": "stream",
     "text": [
      "Enter the prize :: -5\n"
     ]
    },
    {
     "name": "stdout",
     "output_type": "stream",
     "text": [
      "Invalid\n"
     ]
    }
   ],
   "source": [
    "prize = int(input(\"Enter the prize ::\"))\n",
    "change = (2,5,10,20,50,100,200,500)\n",
    "\n",
    "if prize > 0:\n",
    "\n",
    "    if prize % 2 == 0:\n",
    "        sol = prize/2\n",
    "        print(\"combinations of 2 ::\",sol)\n",
    "    if prize % 5 == 0:\n",
    "        sol = prize/5\n",
    "        print(\"combinations of 5::\",sol)\n",
    "    if prize % 10 == 0:\n",
    "        sol = prize/10\n",
    "        print(\"combinations of 10 ::\",sol)\n",
    "    if prize % 50 == 0:\n",
    "        sol = prize/50\n",
    "        print(\"combinations of 50 ::\",sol)\n",
    "    if prize % 100 == 0:\n",
    "        sol = prize/100\n",
    "        print(\"combinations of 100 ::\",sol)\n",
    "    if prize % 200 == 0:\n",
    "        sol = prize/200\n",
    "        print(\"combinations of 200 ::\",sol)\n",
    "    if prize % 500 == 0:\n",
    "        sol = prize/500\n",
    "        print(\"combinations of 500 ::\",sol)\n",
    "    else:\n",
    "        cnt = 0\n",
    "        for i in change:\n",
    "            if prize % i == 0:\n",
    "                cnt=cnt+1\n",
    "        if cnt==0:\n",
    "            print(\"No Combination\")\n",
    "else:\n",
    "    print(\"Invalid\")\n",
    "     \n",
    "    "
   ]
  },
  {
   "cell_type": "code",
   "execution_count": null,
   "id": "70594309-0280-4f49-b993-fe6e0af9de91",
   "metadata": {},
   "outputs": [],
   "source": []
  }
 ],
 "metadata": {
  "kernelspec": {
   "display_name": "Python 3 (ipykernel)",
   "language": "python",
   "name": "python3"
  },
  "language_info": {
   "codemirror_mode": {
    "name": "ipython",
    "version": 3
   },
   "file_extension": ".py",
   "mimetype": "text/x-python",
   "name": "python",
   "nbconvert_exporter": "python",
   "pygments_lexer": "ipython3",
   "version": "3.11.4"
  }
 },
 "nbformat": 4,
 "nbformat_minor": 5
}
