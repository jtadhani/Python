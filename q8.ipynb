{
 "cells": [
  {
   "cell_type": "markdown",
   "id": "8f16861e-74b2-4b18-9723-1ce3bd80341b",
   "metadata": {},
   "source": [
    "<h2>Find out pass-percentage of a class.\n",
    "A teacher is entering the marks of\n",
    "students. A student passes a course if the\n",
    "marks are at least 40 (out of 100). The\n",
    "teacher wants to know the percentage of\n",
    "students passed.</h2>"
   ]
  },
  {
   "cell_type": "code",
   "execution_count": 2,
   "id": "c0993929-e838-4657-8b8d-6f43f536e26a",
   "metadata": {},
   "outputs": [
    {
     "name": "stdin",
     "output_type": "stream",
     "text": [
      "Enter the student No :: 4\n",
      "Enter Your Marks :: 20\n",
      "Enter Your Marks :: 40\n",
      "Enter Your Marks :: 12\n",
      "Enter Your Marks :: 40\n"
     ]
    },
    {
     "name": "stdout",
     "output_type": "stream",
     "text": [
      "50.0 %pass\n"
     ]
    }
   ],
   "source": [
    "clas = int(input(\"Enter the student No ::\")) # input a student no....\n",
    "\n",
    "i = 0\n",
    "pas = 0\n",
    "\n",
    "while i  < clas: # cheack a condition ... i less than clas(student no )\n",
    "    marks = int(input(\"Enter Your Marks ::\")) # input a student mark....\n",
    "\n",
    "    if marks >= 40: #cheack a condition ... mark is greater than 40\n",
    "        pas = pas + 1\n",
    "    i = i+1\n",
    "print(pas * 100/ clas,\"%pass\")\n",
    "\n",
    "\n"
   ]
  },
  {
   "cell_type": "code",
   "execution_count": null,
   "id": "82922453-7e99-49a9-87b5-77f377842131",
   "metadata": {},
   "outputs": [],
   "source": []
  },
  {
   "cell_type": "code",
   "execution_count": null,
   "id": "ab549f9b-8f7f-4dde-a6fe-75078234c430",
   "metadata": {},
   "outputs": [],
   "source": []
  },
  {
   "cell_type": "code",
   "execution_count": null,
   "id": "3ba3c4e8-beda-42f0-82fe-242a8daeaa57",
   "metadata": {},
   "outputs": [],
   "source": []
  },
  {
   "cell_type": "code",
   "execution_count": null,
   "id": "9a24ebad-751c-4af5-8542-8b9085061d06",
   "metadata": {},
   "outputs": [],
   "source": []
  },
  {
   "cell_type": "code",
   "execution_count": null,
   "id": "6e673b4e-bd52-4fe7-87e3-81de4b84fe04",
   "metadata": {},
   "outputs": [],
   "source": []
  }
 ],
 "metadata": {
  "kernelspec": {
   "display_name": "Python 3 (ipykernel)",
   "language": "python",
   "name": "python3"
  },
  "language_info": {
   "codemirror_mode": {
    "name": "ipython",
    "version": 3
   },
   "file_extension": ".py",
   "mimetype": "text/x-python",
   "name": "python",
   "nbconvert_exporter": "python",
   "pygments_lexer": "ipython3",
   "version": "3.11.4"
  }
 },
 "nbformat": 4,
 "nbformat_minor": 5
}
