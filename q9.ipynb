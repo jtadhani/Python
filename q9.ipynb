{
 "cells": [
  {
   "cell_type": "markdown",
   "id": "da778875-3c2b-4f8b-8c2f-c8b2e354e69f",
   "metadata": {},
   "source": [
    "<h2>Print Fibonacci sequence</h2>"
   ]
  },
  {
   "cell_type": "code",
   "execution_count": null,
   "id": "ec4ee188-5afa-4a68-b162-cba82d63a955",
   "metadata": {},
   "outputs": [],
   "source": [
    "n = int(input(\"Enter The Number :: \"))\n",
    "a, b = 0, 1\n",
    "count = 0\n",
    "\n",
    "while count < n:\n",
    "    print(a, end=\" \")\n",
    "    a, b = b, a + b\n",
    "    count += 1\n"
   ]
  },
  {
   "cell_type": "code",
   "execution_count": null,
   "id": "58c55e9e-b809-456a-8446-06f1c030c47c",
   "metadata": {},
   "outputs": [],
   "source": []
  },
  {
   "cell_type": "code",
   "execution_count": null,
   "id": "84b4a45b-85cd-4c56-b80a-817e24be005a",
   "metadata": {},
   "outputs": [],
   "source": []
  },
  {
   "cell_type": "code",
   "execution_count": null,
   "id": "a42cd81a-3709-4c57-b2a8-e83b2447bf8f",
   "metadata": {},
   "outputs": [],
   "source": []
  },
  {
   "cell_type": "code",
   "execution_count": null,
   "id": "b76cba8a-6e12-4ac5-86d6-c24c7b96c864",
   "metadata": {},
   "outputs": [],
   "source": []
  }
 ],
 "metadata": {
  "kernelspec": {
   "display_name": "Python 3 (ipykernel)",
   "language": "python",
   "name": "python3"
  },
  "language_info": {
   "codemirror_mode": {
    "name": "ipython",
    "version": 3
   },
   "file_extension": ".py",
   "mimetype": "text/x-python",
   "name": "python",
   "nbconvert_exporter": "python",
   "pygments_lexer": "ipython3",
   "version": "3.11.4"
  }
 },
 "nbformat": 4,
 "nbformat_minor": 5
}
