{
 "cells": [
  {
   "cell_type": "markdown",
   "id": "4e430608-1c3d-4d48-a01e-258a00d2bda1",
   "metadata": {},
   "source": [
    "<h2>Word shuffle using string manipulation.</h2>"
   ]
  },
  {
   "cell_type": "code",
   "execution_count": 8,
   "id": "5a7b6889-8733-4139-8fe0-3d6a7ddf6fd0",
   "metadata": {},
   "outputs": [
    {
     "name": "stdout",
     "output_type": "stream",
     "text": [
      "output the find \n"
     ]
    }
   ],
   "source": [
    "a = \"find the output\" #string...\n",
    "#string silicing....\n",
    "b = (a[0:5])\n",
    "c = (a[4:9])\n",
    "d = (a[9:15])\n",
    "e = d+c+b #string concate...\n",
    "print(e)"
   ]
  },
  {
   "cell_type": "code",
   "execution_count": null,
   "id": "60a54731-05f7-4220-9390-27f7240b2772",
   "metadata": {},
   "outputs": [],
   "source": []
  }
 ],
 "metadata": {
  "kernelspec": {
   "display_name": "Python 3 (ipykernel)",
   "language": "python",
   "name": "python3"
  },
  "language_info": {
   "codemirror_mode": {
    "name": "ipython",
    "version": 3
   },
   "file_extension": ".py",
   "mimetype": "text/x-python",
   "name": "python",
   "nbconvert_exporter": "python",
   "pygments_lexer": "ipython3",
   "version": "3.11.4"
  }
 },
 "nbformat": 4,
 "nbformat_minor": 5
}
