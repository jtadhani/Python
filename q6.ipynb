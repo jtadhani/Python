{
 "cells": [
  {
   "cell_type": "markdown",
   "id": "e8203a8a-c21b-4101-8f29-59a082a1949d",
   "metadata": {},
   "source": [
    "<h2>Find the student from CS department where the roll number may be in capital or small-case Letters.</h2>"
   ]
  },
  {
   "cell_type": "code",
   "execution_count": 6,
   "id": "33430c62-fad2-4fe0-ba09-ea08dc76234c",
   "metadata": {},
   "outputs": [
    {
     "name": "stdin",
     "output_type": "stream",
     "text": [
      "Enter The RollNo:  cs12\n"
     ]
    },
    {
     "name": "stdout",
     "output_type": "stream",
     "text": [
      "Correct\n"
     ]
    }
   ],
   "source": [
    "Rollno = input(\"Enter The RollNo: \")  # Input student roll number\n",
    "#rollno convert to uppercase....\n",
    "if \"CS\" in Rollno.upper():\n",
    "    print(\"Correct\")\n",
    "else:\n",
    "    print(\"Incorrect!!!\")\n"
   ]
  },
  {
   "cell_type": "code",
   "execution_count": null,
   "id": "dfc72275-5477-4c1e-b257-463325adf43e",
   "metadata": {},
   "outputs": [],
   "source": []
  }
 ],
 "metadata": {
  "kernelspec": {
   "display_name": "Python 3 (ipykernel)",
   "language": "python",
   "name": "python3"
  },
  "language_info": {
   "codemirror_mode": {
    "name": "ipython",
    "version": 3
   },
   "file_extension": ".py",
   "mimetype": "text/x-python",
   "name": "python",
   "nbconvert_exporter": "python",
   "pygments_lexer": "ipython3",
   "version": "3.11.4"
  }
 },
 "nbformat": 4,
 "nbformat_minor": 5
}
