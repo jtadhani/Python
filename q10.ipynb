{
 "cells": [
  {
   "cell_type": "markdown",
   "id": "e7564f62-5274-470f-9a7d-d80ef40bcd48",
   "metadata": {},
   "source": [
    "<h2>Collatz sequence\n",
    "1. For even numbers, divide by 2;\n",
    "2. For odd numbers, multiply by 3 and\n",
    "add 1.\n",
    "3. Repeat above steps, until it becomes 1.\n",
    "Input - 7\n",
    "Output- 7, 22, 11, 34, 17, 52, 26, 13, 40,\n",
    "20, 10, 5, 16, 8, 4, 2, 1.</h2>"
   ]
  },
  {
   "cell_type": "code",
   "execution_count": 1,
   "id": "fba9022a-c1ee-4b04-87d2-024e79c02725",
   "metadata": {},
   "outputs": [
    {
     "name": "stdout",
     "output_type": "stream",
     "text": [
      "Enter Your No :: 7\n"
     ]
    },
    {
     "name": "stdout",
     "output_type": "stream",
     "text": [
      "7 22 11 34 17 52 26 13 40 20 10 5 16 8 4 2 1 "
     ]
    }
   ],
   "source": [
    "n = int(input(\"Enter Your No ::\")) #input number...\n",
    "print(n,end=\" \")#end=\" \" means number space by space\n",
    "while n != 1:\n",
    "    if n % 2 == 0: # cheack a condition \n",
    "        n = int(n/2)\n",
    "    else:\n",
    "        n = 3 * n +1\n",
    "    print(n,end=\" \")"
   ]
  },
  {
   "cell_type": "code",
   "execution_count": null,
   "id": "3093bdc3-5b4d-4cdf-8a0d-335a7f0ef829",
   "metadata": {},
   "outputs": [],
   "source": []
  }
 ],
 "metadata": {
  "kernelspec": {
   "display_name": "Python 3 (ipykernel)",
   "language": "python",
   "name": "python3"
  },
  "language_info": {
   "codemirror_mode": {
    "name": "ipython",
    "version": 3
   },
   "file_extension": ".py",
   "mimetype": "text/x-python",
   "name": "python",
   "nbconvert_exporter": "python",
   "pygments_lexer": "ipython3",
   "version": "3.11.4"
  }
 },
 "nbformat": 4,
 "nbformat_minor": 5
}
