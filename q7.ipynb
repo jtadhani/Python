{
 "cells": [
  {
   "cell_type": "markdown",
   "id": "43608e28-92d2-4154-96af-c920ef6581ec",
   "metadata": {},
   "source": [
    "<h2>To read a card as input and output if the card is lucky or not.</h2>"
   ]
  },
  {
   "cell_type": "code",
   "execution_count": 10,
   "id": "92fc212a-8e62-4656-a0c6-6d3d1227cca1",
   "metadata": {},
   "outputs": [
    {
     "name": "stdin",
     "output_type": "stream",
     "text": [
      "Enter The value :: 7\n"
     ]
    },
    {
     "name": "stdout",
     "output_type": "stream",
     "text": [
      "7is a lucky card\n"
     ]
    }
   ],
   "source": [
    "values = ['2','3','4','5','6','7','8','9','10','ace','king','queen','jack'] # card lucky....\n",
    "card = input(\"Enter The value ::\") #input a values...\n",
    "\n",
    "if card in values:\n",
    "    if card in ['3','5','queen'] : #cheack a condition....\n",
    "        print(f\"{card}is a lucky card\")\n",
    "    else:\n",
    "        print(f\"{card}is not a lucky card\")\n",
    "else:\n",
    "     print(\"Not valid card \")"
   ]
  },
  {
   "cell_type": "code",
   "execution_count": null,
   "id": "907ac4af-338b-4453-90d4-d0638353f5dc",
   "metadata": {},
   "outputs": [],
   "source": []
  }
 ],
 "metadata": {
  "kernelspec": {
   "display_name": "Python 3 (ipykernel)",
   "language": "python",
   "name": "python3"
  },
  "language_info": {
   "codemirror_mode": {
    "name": "ipython",
    "version": 3
   },
   "file_extension": ".py",
   "mimetype": "text/x-python",
   "name": "python",
   "nbconvert_exporter": "python",
   "pygments_lexer": "ipython3",
   "version": "3.11.4"
  }
 },
 "nbformat": 4,
 "nbformat_minor": 5
}
