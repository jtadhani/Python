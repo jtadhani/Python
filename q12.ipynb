{
 "cells": [
  {
   "cell_type": "markdown",
   "id": "a95edbad-fdf9-4430-be9a-dfa081593652",
   "metadata": {},
   "source": [
    "<h2>Find birthdays in a month using dictionary.Birthdays in DD/MM/YY format</h2>"
   ]
  },
  {
   "cell_type": "code",
   "execution_count": 1,
   "id": "056d288c-8abf-4288-bea1-ff443af117e7",
   "metadata": {},
   "outputs": [
    {
     "name": "stdin",
     "output_type": "stream",
     "text": [
      "Enter Yor Dob :: ((DD/MM/YYYY)) 11-01-2005\n"
     ]
    },
    {
     "name": "stdout",
     "output_type": "stream",
     "text": [
      "January\n"
     ]
    }
   ],
   "source": [
    "months={ \"01\": \"January\",\n",
    "    \"02\": \"February\",\n",
    "    \"03\": \"March\",\n",
    "    \"04\": \"April\",\n",
    "    \"05\": \"May\",\n",
    "    \"06\": \"June\",\n",
    "    \"07\": \"July\",\n",
    "    \"08\": \"August\",\n",
    "    \"09\": \"September\",\n",
    "    \"10\": \"October\",\n",
    "    \"11\": \"November\",\n",
    "    \"12\": \"December\"\n",
    "}\n",
    "dob = input(\"Enter Yor Dob :: ((DD/MM/YYYY))\")\n",
    "\n",
    "if len(dob) == 10 and dob[3:5] in months:\n",
    "    print(months[dob[3:5]])\n",
    "else:\n",
    "    print(\"plz , enter the date and correct formate (DD/MM/YYYY) \")\n",
    "    \n",
    "\n",
    "\n",
    "    "
   ]
  },
  {
   "cell_type": "code",
   "execution_count": null,
   "id": "20b508f1-bd37-42b6-9fdd-c51cb1c14435",
   "metadata": {},
   "outputs": [],
   "source": []
  },
  {
   "cell_type": "code",
   "execution_count": null,
   "id": "fb4705f9-8c80-41af-a334-86f12e5b70ab",
   "metadata": {},
   "outputs": [],
   "source": []
  },
  {
   "cell_type": "code",
   "execution_count": null,
   "id": "e636c29f-a042-476e-a542-333d6cd44428",
   "metadata": {},
   "outputs": [],
   "source": []
  }
 ],
 "metadata": {
  "kernelspec": {
   "display_name": "Python 3 (ipykernel)",
   "language": "python",
   "name": "python3"
  },
  "language_info": {
   "codemirror_mode": {
    "name": "ipython",
    "version": 3
   },
   "file_extension": ".py",
   "mimetype": "text/x-python",
   "name": "python",
   "nbconvert_exporter": "python",
   "pygments_lexer": "ipython3",
   "version": "3.11.4"
  }
 },
 "nbformat": 4,
 "nbformat_minor": 5
}
