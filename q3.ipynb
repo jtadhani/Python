{
 "cells": [
  {
   "cell_type": "markdown",
   "id": "3107f11f-944e-42fe-ac80-4d4eaea57670",
   "metadata": {},
   "source": [
    "<h2>Extracting fields of a roll number using string indexing and slicing.</h2>"
   ]
  },
  {
   "cell_type": "code",
   "execution_count": 21,
   "id": "6fee6c78-9f40-4f22-bdc5-774b7d74f30c",
   "metadata": {},
   "outputs": [
    {
     "name": "stdout",
     "output_type": "stream",
     "text": [
      "Gujarat vidyapith bca 2024 12208412\n"
     ]
    }
   ],
   "source": [
    "Roll_No = \"Gujarat vidyapith / bca / 2024 / 12208412 \" #inputed string...\n",
    "\n",
    "#indexing & slicing in string..,\n",
    "branch = (Roll_No[0:18])\n",
    "course = (Roll_No[20:23])\n",
    "year = (Roll_No[25:30])\n",
    "rno =  (Roll_No[32:41])\n",
    "\n",
    "add = branch + course + year + rno #string concate.....\n",
    "print(add) #print string...\n",
    "\n"
   ]
  }
 ],
 "metadata": {
  "kernelspec": {
   "display_name": "Python 3 (ipykernel)",
   "language": "python",
   "name": "python3"
  },
  "language_info": {
   "codemirror_mode": {
    "name": "ipython",
    "version": 3
   },
   "file_extension": ".py",
   "mimetype": "text/x-python",
   "name": "python",
   "nbconvert_exporter": "python",
   "pygments_lexer": "ipython3",
   "version": "3.11.4"
  }
 },
 "nbformat": 4,
 "nbformat_minor": 5
}
