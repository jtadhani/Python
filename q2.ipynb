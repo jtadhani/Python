{
 "cells": [
  {
   "cell_type": "markdown",
   "id": "c7c26ea5-34b3-4234-b15a-358faad079c2",
   "metadata": {},
   "source": [
    "<h2>Find the sum of the first n natural numbers.</h2>"
   ]
  },
  {
   "cell_type": "code",
   "execution_count": 3,
   "id": "a56d09f7-814b-4b69-8476-ca57e2b9c0c6",
   "metadata": {},
   "outputs": [
    {
     "name": "stdin",
     "output_type": "stream",
     "text": [
      "Enter Number :: 10\n"
     ]
    },
    {
     "name": "stdout",
     "output_type": "stream",
     "text": [
      "55\n"
     ]
    }
   ],
   "source": [
    "n  = int(input(\"Enter Number ::\")) #  input a Number\n",
    "ans = n*(n+1)/2 #natural number formula ....\n",
    "print(int(ans))"
   ]
  }
 ],
 "metadata": {
  "kernelspec": {
   "display_name": "Python 3 (ipykernel)",
   "language": "python",
   "name": "python3"
  },
  "language_info": {
   "codemirror_mode": {
    "name": "ipython",
    "version": 3
   },
   "file_extension": ".py",
   "mimetype": "text/x-python",
   "name": "python",
   "nbconvert_exporter": "python",
   "pygments_lexer": "ipython3",
   "version": "3.11.4"
  }
 },
 "nbformat": 4,
 "nbformat_minor": 5
}
