{
 "cells": [
  {
   "cell_type": "markdown",
   "id": "51c4c0e1-4dcf-4a17-b864-8e27fbe699b6",
   "metadata": {},
   "source": [
    "<h2>Primality testing: Given a positive\n",
    "integer, check if the number is prime or\n",
    "not.</h2>"
   ]
  },
  {
   "cell_type": "code",
   "execution_count": 1,
   "id": "11ca3b9a-0b6e-432e-9fc9-5b19a38a58c9",
   "metadata": {},
   "outputs": [
    {
     "name": "stdin",
     "output_type": "stream",
     "text": [
      "Enter a number:  19\n"
     ]
    },
    {
     "name": "stdout",
     "output_type": "stream",
     "text": [
      "Prime\n"
     ]
    }
   ],
   "source": [
    "n = int(input(\"Enter a number: \"))#input number...\n",
    "\n",
    "if n <= 1: #\n",
    "    s = \"Not a Prime Number\"\n",
    "elif n == 2:\n",
    "    s = \"Prime\"\n",
    "elif n % 2 == 0:\n",
    "    s = \"Not a Prime Number\"\n",
    "else:\n",
    "    s = \"Prime\"\n",
    "\n",
    "print(s)\n"
   ]
  },
  {
   "cell_type": "code",
   "execution_count": null,
   "id": "ef8c887d-8df4-40ef-84ad-884ee8a244f8",
   "metadata": {},
   "outputs": [],
   "source": []
  }
 ],
 "metadata": {
  "kernelspec": {
   "display_name": "Python 3 (ipykernel)",
   "language": "python",
   "name": "python3"
  },
  "language_info": {
   "codemirror_mode": {
    "name": "ipython",
    "version": 3
   },
   "file_extension": ".py",
   "mimetype": "text/x-python",
   "name": "python",
   "nbconvert_exporter": "python",
   "pygments_lexer": "ipython3",
   "version": "3.11.4"
  }
 },
 "nbformat": 4,
 "nbformat_minor": 5
}
