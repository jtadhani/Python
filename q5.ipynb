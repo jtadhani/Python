{
 "cells": [
  {
   "cell_type": "markdown",
   "id": "5002f61d-fac8-46fe-88be-a23c77dca75f",
   "metadata": {},
   "source": [
    "<h2>Write a program to find out if the two blood groups match.</h2>"
   ]
  },
  {
   "cell_type": "code",
   "execution_count": 1,
   "id": "ade475a2-65fd-4f46-b92e-0f8c87e6627b",
   "metadata": {},
   "outputs": [
    {
     "name": "stdin",
     "output_type": "stream",
     "text": [
      "Enter Your Blood Group :: a+\n",
      "Enter Your Blood Group :: a+\n"
     ]
    },
    {
     "name": "stdout",
     "output_type": "stream",
     "text": [
      "Blood Groups match\n"
     ]
    }
   ],
   "source": [
    "person1 = input(\"Enter person1 Blood Group ::\") #input person1 blood group....\n",
    "person2 = input(\"Enter person2 Blood Group ::\") #input person2 blood group....\n",
    "\n",
    "if(person1 == person2 ): #cheack blood group....\n",
    "    print(\"Blood Groups match\")\n",
    "\n",
    "else:\n",
    "     print(\"Not Blood Groups match\")\n"
   ]
  },
  {
   "cell_type": "code",
   "execution_count": null,
   "id": "63101d52-9a96-45f5-a65c-bc2ad6c564d7",
   "metadata": {},
   "outputs": [],
   "source": []
  }
 ],
 "metadata": {
  "kernelspec": {
   "display_name": "Python 3 (ipykernel)",
   "language": "python",
   "name": "python3"
  },
  "language_info": {
   "codemirror_mode": {
    "name": "ipython",
    "version": 3
   },
   "file_extension": ".py",
   "mimetype": "text/x-python",
   "name": "python",
   "nbconvert_exporter": "python",
   "pygments_lexer": "ipython3",
   "version": "3.11.4"
  }
 },
 "nbformat": 4,
 "nbformat_minor": 5
}
